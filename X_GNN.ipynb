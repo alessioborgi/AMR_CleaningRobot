{
  "nbformat": 4,
  "nbformat_minor": 0,
  "metadata": {
    "colab": {
      "provenance": [],
      "authorship_tag": "ABX9TyMu4KCqTxoyq3HRKigaKRII",
      "include_colab_link": true
    },
    "kernelspec": {
      "name": "python3",
      "display_name": "Python 3"
    },
    "language_info": {
      "name": "python"
    }
  },
  "cells": [
    {
      "cell_type": "markdown",
      "metadata": {
        "id": "view-in-github",
        "colab_type": "text"
      },
      "source": [
        "<a href=\"https://colab.research.google.com/github/alessioborgi/AMR_CleaningRobot/blob/master/X_GNN.ipynb\" target=\"_parent\"><img src=\"https://colab.research.google.com/assets/colab-badge.svg\" alt=\"Open In Colab\"/></a>"
      ]
    },
    {
      "cell_type": "markdown",
      "source": [
        "# X-GNN"
      ],
      "metadata": {
        "id": "_QSs87QxqgNr"
      }
    },
    {
      "cell_type": "markdown",
      "source": [
        "### 0: IMPORTING LIBRARIES"
      ],
      "metadata": {
        "id": "K67WPTzrqi4z"
      }
    },
    {
      "cell_type": "code",
      "source": [
        "!pip install torch_geometric"
      ],
      "metadata": {
        "colab": {
          "base_uri": "https://localhost:8080/"
        },
        "id": "qHm1dCSMqm_6",
        "outputId": "5cfc188b-847e-4c45-d19f-8ac597f1f371"
      },
      "execution_count": 1,
      "outputs": [
        {
          "output_type": "stream",
          "name": "stdout",
          "text": [
            "Collecting torch_geometric\n",
            "  Downloading torch_geometric-2.6.1-py3-none-any.whl.metadata (63 kB)\n",
            "\u001b[?25l     \u001b[90m━━━━━━━━━━━━━━━━━━━━━━━━━━━━━━━━━━━━━━━━\u001b[0m \u001b[32m0.0/63.1 kB\u001b[0m \u001b[31m?\u001b[0m eta \u001b[36m-:--:--\u001b[0m\r\u001b[2K     \u001b[90m━━━━━━━━━━━━━━━━━━━━━━━━━━━━━━━━━━━━━━━━\u001b[0m \u001b[32m63.1/63.1 kB\u001b[0m \u001b[31m2.2 MB/s\u001b[0m eta \u001b[36m0:00:00\u001b[0m\n",
            "\u001b[?25hRequirement already satisfied: aiohttp in /usr/local/lib/python3.10/dist-packages (from torch_geometric) (3.11.2)\n",
            "Requirement already satisfied: fsspec in /usr/local/lib/python3.10/dist-packages (from torch_geometric) (2024.10.0)\n",
            "Requirement already satisfied: jinja2 in /usr/local/lib/python3.10/dist-packages (from torch_geometric) (3.1.4)\n",
            "Requirement already satisfied: numpy in /usr/local/lib/python3.10/dist-packages (from torch_geometric) (1.26.4)\n",
            "Requirement already satisfied: psutil>=5.8.0 in /usr/local/lib/python3.10/dist-packages (from torch_geometric) (5.9.5)\n",
            "Requirement already satisfied: pyparsing in /usr/local/lib/python3.10/dist-packages (from torch_geometric) (3.2.0)\n",
            "Requirement already satisfied: requests in /usr/local/lib/python3.10/dist-packages (from torch_geometric) (2.32.3)\n",
            "Requirement already satisfied: tqdm in /usr/local/lib/python3.10/dist-packages (from torch_geometric) (4.66.6)\n",
            "Requirement already satisfied: aiohappyeyeballs>=2.3.0 in /usr/local/lib/python3.10/dist-packages (from aiohttp->torch_geometric) (2.4.3)\n",
            "Requirement already satisfied: aiosignal>=1.1.2 in /usr/local/lib/python3.10/dist-packages (from aiohttp->torch_geometric) (1.3.1)\n",
            "Requirement already satisfied: attrs>=17.3.0 in /usr/local/lib/python3.10/dist-packages (from aiohttp->torch_geometric) (24.2.0)\n",
            "Requirement already satisfied: frozenlist>=1.1.1 in /usr/local/lib/python3.10/dist-packages (from aiohttp->torch_geometric) (1.5.0)\n",
            "Requirement already satisfied: multidict<7.0,>=4.5 in /usr/local/lib/python3.10/dist-packages (from aiohttp->torch_geometric) (6.1.0)\n",
            "Requirement already satisfied: propcache>=0.2.0 in /usr/local/lib/python3.10/dist-packages (from aiohttp->torch_geometric) (0.2.0)\n",
            "Requirement already satisfied: yarl<2.0,>=1.17.0 in /usr/local/lib/python3.10/dist-packages (from aiohttp->torch_geometric) (1.17.2)\n",
            "Requirement already satisfied: async-timeout<6.0,>=4.0 in /usr/local/lib/python3.10/dist-packages (from aiohttp->torch_geometric) (4.0.3)\n",
            "Requirement already satisfied: MarkupSafe>=2.0 in /usr/local/lib/python3.10/dist-packages (from jinja2->torch_geometric) (3.0.2)\n",
            "Requirement already satisfied: charset-normalizer<4,>=2 in /usr/local/lib/python3.10/dist-packages (from requests->torch_geometric) (3.4.0)\n",
            "Requirement already satisfied: idna<4,>=2.5 in /usr/local/lib/python3.10/dist-packages (from requests->torch_geometric) (3.10)\n",
            "Requirement already satisfied: urllib3<3,>=1.21.1 in /usr/local/lib/python3.10/dist-packages (from requests->torch_geometric) (2.2.3)\n",
            "Requirement already satisfied: certifi>=2017.4.17 in /usr/local/lib/python3.10/dist-packages (from requests->torch_geometric) (2024.8.30)\n",
            "Requirement already satisfied: typing-extensions>=4.1.0 in /usr/local/lib/python3.10/dist-packages (from multidict<7.0,>=4.5->aiohttp->torch_geometric) (4.12.2)\n",
            "Downloading torch_geometric-2.6.1-py3-none-any.whl (1.1 MB)\n",
            "\u001b[2K   \u001b[90m━━━━━━━━━━━━━━━━━━━━━━━━━━━━━━━━━━━━━━━━\u001b[0m \u001b[32m1.1/1.1 MB\u001b[0m \u001b[31m22.7 MB/s\u001b[0m eta \u001b[36m0:00:00\u001b[0m\n",
            "\u001b[?25hInstalling collected packages: torch_geometric\n",
            "Successfully installed torch_geometric-2.6.1\n"
          ]
        }
      ]
    },
    {
      "cell_type": "code",
      "execution_count": 8,
      "metadata": {
        "colab": {
          "base_uri": "https://localhost:8080/"
        },
        "id": "fLC7qw9ddEBm",
        "outputId": "1ac93a18-cc1b-4ac7-ec6f-538d2bb1116f"
      },
      "outputs": [
        {
          "output_type": "stream",
          "name": "stdout",
          "text": [
            "torch.Size([2])\n"
          ]
        }
      ],
      "source": [
        "import math\n",
        "import torch\n",
        "import torch.nn as nn\n",
        "import torch.nn.functional as F\n",
        "from torch.nn.parameter import Parameter\n",
        "\n",
        "# Define a single Graph Convolution layer\n",
        "class GraphConvolution(nn.Module):\n",
        "    \"\"\"\n",
        "    Implements a simple GCN layer as described in the paper:\n",
        "    'Semi-Supervised Classification with Graph Convolutional Networks' (https://arxiv.org/abs/1609.02907)\n",
        "    \"\"\"\n",
        "\n",
        "    def __init__(self, in_features, out_features):\n",
        "        \"\"\"\n",
        "        Initialize the GCN layer with input and output feature dimensions.\n",
        "\n",
        "        Args:\n",
        "        - in_features: Number of input features per node.\n",
        "        - out_features: Number of output features per node.\n",
        "        \"\"\"\n",
        "        super(GraphConvolution, self).__init__()\n",
        "        self.in_features = in_features  # Number of input features\n",
        "        self.out_features = out_features  # Number of output features\n",
        "\n",
        "        # Learnable weight matrix of shape [in_features, out_features]\n",
        "        self.weight = Parameter(torch.FloatTensor(in_features, out_features))\n",
        "        # Learnable bias vector of shape [out_features]\n",
        "        self.bias = Parameter(torch.FloatTensor(out_features))\n",
        "\n",
        "        # Initialize weights and bias\n",
        "        self.reset_parameters()\n",
        "\n",
        "    def reset_parameters(self):\n",
        "        \"\"\"\n",
        "        Initialize weights and bias using uniform distribution based on feature dimensions.\n",
        "        \"\"\"\n",
        "        stdv = 1. / math.sqrt(self.weight.size(1))\n",
        "        self.weight.data.uniform_(-stdv, stdv)  # Uniform initialization for weights\n",
        "        self.bias.data.uniform_(-stdv, stdv)    # Uniform initialization for bias\n",
        "\n",
        "    def __repr__(self):\n",
        "        \"\"\"\n",
        "        Return a string representation of the layer showing the input and output feature dimensions.\n",
        "        \"\"\"\n",
        "        return self.__class__.__name__ + f' ({self.in_features} -> {self.out_features})'\n",
        "\n",
        "    def forward(self, input, adj):\n",
        "        \"\"\"\n",
        "        Forward pass of the GCN layer: computes A~XW + b.\n",
        "\n",
        "        Args:\n",
        "        - input: Node feature matrix X of shape [num_nodes, in_features].\n",
        "        - adj: Normalized adjacency matrix A~ of shape [num_nodes, num_nodes].\n",
        "\n",
        "        Returns:\n",
        "        - Output feature matrix of shape [num_nodes, out_features].\n",
        "        \"\"\"\n",
        "        # Compute XW\n",
        "        support = torch.mm(input, self.weight)\n",
        "        # Compute A~XW using sparse matrix multiplication\n",
        "        output = torch.spmm(adj, support)\n",
        "        # Add bias and return\n",
        "        return output + self.bias\n",
        "\n",
        "# Define the full Graph Convolutional Network (GCN)\n",
        "class GCN(nn.Module):\n",
        "    \"\"\"\n",
        "    Implements a 3-layer GCN model with a final classifier.\n",
        "    \"\"\"\n",
        "\n",
        "    def __init__(self, nfeat, nclass, dropout):\n",
        "        \"\"\"\n",
        "        Initialize the GCN model.\n",
        "\n",
        "        Args:\n",
        "        - nfeat: Number of input features per node.\n",
        "        - nclass: Number of output classes (for classification).\n",
        "        - dropout: Dropout rate for regularization.\n",
        "        \"\"\"\n",
        "        super(GCN, self).__init__()\n",
        "\n",
        "        self.dropout = dropout  # Dropout rate\n",
        "\n",
        "        # Define three GCN layers\n",
        "        self.gc1 = GraphConvolution(nfeat, 32)  # Layer 1: Input to 32 features\n",
        "        self.gc2 = GraphConvolution(32, 48)    # Layer 2: 32 to 48 features\n",
        "        self.gc3 = GraphConvolution(48, 64)    # Layer 3: 48 to 64 features\n",
        "\n",
        "        # Fully connected layers for classification\n",
        "        self.fc1 = nn.Linear(64, 32)  # Hidden layer: 64 to 32 features\n",
        "        self.fc2 = nn.Linear(32, nclass)  # Output layer: 32 to nclass\n",
        "\n",
        "    def forward(self, x, adj):\n",
        "        \"\"\"\n",
        "        Forward pass of the GCN model.\n",
        "\n",
        "        Args:\n",
        "        - x: Node feature matrix X of shape [num_nodes, nfeat].\n",
        "        - adj: Normalized adjacency matrix A~ of shape [num_nodes, num_nodes].\n",
        "\n",
        "        Returns:\n",
        "        - Output class probabilities of shape [nclass].\n",
        "        \"\"\"\n",
        "        # Apply first GCN layer with ReLU activation\n",
        "        x = F.relu(self.gc1(x, adj))\n",
        "        x = F.dropout(x, self.dropout, training=self.training)  # Apply dropout\n",
        "\n",
        "        # Apply second GCN layer with ReLU activation\n",
        "        x = F.relu(self.gc2(x, adj))\n",
        "        x = F.dropout(x, self.dropout, training=self.training)  # Apply dropout\n",
        "\n",
        "        # Apply third GCN layer with ReLU activation\n",
        "        x = F.relu(self.gc3(x, adj))\n",
        "\n",
        "        # Aggregate node features using mean pooling\n",
        "        y = torch.mean(x, dim=0)  # Aggregate across nodes\n",
        "\n",
        "        # Pass through fully connected layers with ReLU and dropout\n",
        "        y = F.relu(self.fc1(y))\n",
        "        y = F.dropout(y, self.dropout, training=self.training)\n",
        "        y = F.softmax(self.fc2(y), dim=0)  # Output class probabilities\n",
        "\n",
        "        return y\n",
        "\n",
        "# Example usage\n",
        "if __name__ == '__main__':\n",
        "    # Create a random node feature matrix (29 nodes, 7 features per node)\n",
        "    input = torch.rand(29, 7)\n",
        "    # Create a random adjacency matrix (29 nodes)\n",
        "    adj = torch.rand(29, 29)\n",
        "\n",
        "    # Initialize the GCN model\n",
        "    model = GCN(nfeat=7,  # Number of input features\n",
        "                nclass=2,  # Number of output classes\n",
        "                dropout=0.1)  # Dropout rate\n",
        "\n",
        "    # Perform a forward pass\n",
        "    output = model(input, adj)\n",
        "    # Print the output shape (should be [nclass])\n",
        "    print(output.size())\n"
      ]
    }
  ]
}